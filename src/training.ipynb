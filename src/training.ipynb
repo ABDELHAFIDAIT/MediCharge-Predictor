{
 "cells": [
  {
   "cell_type": "markdown",
   "id": "725ed255",
   "metadata": {},
   "source": [
    "### <center>**Entrainement des Modèles de Regression et Évaluation des Performances**<center>\n",
    "\n",
    "La <code>régression linéaire</code> est une méthode statistique qui permet de modéliser la relation entre une variable dépendante <code>y</code> et une ou plusieurs variables indépendantes <code>X</code>. Elle cherche à ajuster une droite (ou un hyperplan en cas de plusieurs variables) qui minimise la somme des carrés des écarts entre les valeurs observées et les valeurs prédites.\n",
    "\n",
    "#### **1. LinearRegression :**\n",
    "\n",
    "Le modèle <code>LinearRegression</code> de <code>scikit-learn.linear_model</code> est une implémentation simple et puissante de la régression linéaire par moindres carrés ordinaires. \n",
    "\n",
    "**Principe :**\n",
    "\n",
    "Le modèle de régression linéaire cherche à ajuster une droite (ou un hyperplan en dimension >2) de la forme :\n",
    "\n",
    "\n",
    "$$\n",
    "\\hat{y} = w_1 x_1 + w_2 x_2 + \\cdots + w_n x_n + b\n",
    "$$\n",
    "\n",
    "- $x_1,x_2,....,x_n$ = variables d’entrée (features).\n",
    "- $w_1,w_2,....,w_n$ = coefficients (poids) que le modèle apprend.\n",
    "- $b$ = intercept (biais).\n",
    "- $\\hat{y}$ = valeur prédite.\n",
    "\n",
    "L’objectif est de trouver les meilleurs poids $w$ et biais $b$ qui minimisent l’erreur entre la valeur réelle $y$ et la valeur prédite $\\hat{y}$."
   ]
  },
  {
   "cell_type": "code",
   "execution_count": 18,
   "id": "d07274d0",
   "metadata": {},
   "outputs": [
    {
     "name": "stdout",
     "output_type": "stream",
     "text": [
      "Mean Absolute Error (MAE): 0.2713058513530974\n",
      "Root Mean Squared Error (RMSE): 0.4186930787478204\n",
      "R² Score: 0.8049693860071103\n"
     ]
    }
   ],
   "source": [
    "import pandas as pd\n",
    "from sklearn.model_selection import *\n",
    "from sklearn.linear_model import LinearRegression\n",
    "from sklearn.metrics import *\n",
    "import numpy as np\n",
    "\n",
    "data = pd.read_csv(\"../data/processed/data.csv\")\n",
    "\n",
    "# Séparer les features (X) et la cible (y)\n",
    "X = data.drop(\"charges\", axis=1)  # toutes les colonnes sauf la cible\n",
    "y = data[\"charges\"] # la colonne cible\n",
    "\n",
    "# Diviser en train et test\n",
    "X_train, X_test, y_train, y_test = train_test_split(X, y, test_size=0.2, random_state=42)\n",
    "\n",
    "# Créer le modèle de régression linéaire avec les paramètres par défaut\n",
    "model = LinearRegression()\n",
    "\n",
    "# Entraîner le modèle\n",
    "model.fit(X_train, y_train)\n",
    "\n",
    "# Faire des prédictions\n",
    "y_pred = model.predict(X_test)\n",
    "\n",
    "# Évaluer le modèle\n",
    "mae = mean_absolute_error(y_test, y_pred) # Mean Absolute Error\n",
    "rmse = np.sqrt(mean_squared_error(y_test, y_pred)) # Root Mean Squared Error\n",
    "r2 = r2_score(y_test, y_pred) # R² Score\n",
    "\n",
    "print(f\"Mean Absolute Error (MAE): {mae}\")\n",
    "print(f\"Root Mean Squared Error (RMSE): {rmse}\")\n",
    "print(f\"R² Score: {r2}\")"
   ]
  },
  {
   "cell_type": "markdown",
   "id": "865d3dd8",
   "metadata": {},
   "source": [
    "#### **2. RandomForestRegression :**\n",
    "\n"
   ]
  },
  {
   "cell_type": "code",
   "execution_count": 17,
   "id": "370ddb5e",
   "metadata": {},
   "outputs": [
    {
     "name": "stdout",
     "output_type": "stream",
     "text": [
      "Mean Absolute Error (MAE): 0.18621803315248536\n",
      "Root Mean Squared Error (RMSE): 0.3708837269449312\n",
      "R² Score: 0.8469664047595602\n"
     ]
    }
   ],
   "source": [
    "from sklearn.ensemble import RandomForestRegressor\n",
    "from sklearn.model_selection import train_test_split\n",
    "from sklearn.metrics import *\n",
    "import pandas as pd\n",
    "\n",
    "# Charger le dataset\n",
    "data = pd.read_csv(\"../data/processed/data.csv\")\n",
    "\n",
    "# Séparer les features (X) et la cible (y)\n",
    "X = data.drop(\"charges\", axis=1)\n",
    "y = data[\"charges\"]\n",
    "\n",
    "# Diviser les données en train et test\n",
    "X_train, X_test, y_train, y_test = train_test_split(X, y, test_size=0.2, random_state=42)\n",
    "\n",
    "# Créer le modèle avec les paramètres par défaut\n",
    "rf = RandomForestRegressor(random_state=42)\n",
    "\n",
    "# Entraîner le modèle\n",
    "rf.fit(X_train, y_train)\n",
    "\n",
    "# Prédire sur les données de test\n",
    "y_pred = rf.predict(X_test)\n",
    "\n",
    "# Évaluer le modèle\n",
    "mae = mean_absolute_error(y_test, y_pred) # Mean Absolute Error\n",
    "rmse = np.sqrt(mean_squared_error(y_test, y_pred)) # Root Mean Squared Error\n",
    "r2 = r2_score(y_test, y_pred) # R² Score\n",
    "\n",
    "print(f\"Mean Absolute Error (MAE): {mae}\")\n",
    "print(f\"Root Mean Squared Error (RMSE): {rmse}\")\n",
    "print(f\"R² Score: {r2}\")"
   ]
  },
  {
   "cell_type": "markdown",
   "id": "03aef595",
   "metadata": {},
   "source": [
    "#### **3. XGBoost (XGBRegressor) :**"
   ]
  },
  {
   "cell_type": "code",
   "execution_count": 16,
   "id": "3d959512",
   "metadata": {},
   "outputs": [
    {
     "name": "stdout",
     "output_type": "stream",
     "text": [
      "Mean Absolute Error (MAE): 0.21676030125302043\n",
      "Root Mean Squared Error (RMSE): 0.40654051174666905\n",
      "R² Score: 0.8161266098399784\n"
     ]
    }
   ],
   "source": [
    "import pandas as pd\n",
    "from sklearn.model_selection import train_test_split\n",
    "from xgboost import XGBRegressor\n",
    "from sklearn.metrics import mean_squared_error\n",
    "\n",
    "# Charger le dataset\n",
    "data = pd.read_csv(\"../data/processed/data.csv\")\n",
    "\n",
    "# Séparer les features (X) et la cible (y)\n",
    "X = data.drop(\"charges\", axis=1)\n",
    "y = data[\"charges\"]\n",
    "\n",
    "# Diviser les données en train et test\n",
    "X_train, X_test, y_train, y_test = train_test_split(X, y, test_size=0.2, random_state=42)\n",
    "\n",
    "# Créer le modèle avec les paramètres par défaut\n",
    "xgb = XGBRegressor()\n",
    "\n",
    "# Entraîner le modèle\n",
    "xgb.fit(X_train, y_train)\n",
    "\n",
    "# Prédire sur les données de test\n",
    "y_pred = xgb.predict(X_test)\n",
    "\n",
    "# Évaluer le modèle\n",
    "mae = mean_absolute_error(y_test, y_pred) # Mean Absolute Error\n",
    "rmse = np.sqrt(mean_squared_error(y_test, y_pred)) # Root Mean Squared Error\n",
    "r2 = r2_score(y_test, y_pred) # R² Score\n",
    "\n",
    "print(f\"Mean Absolute Error (MAE): {mae}\")\n",
    "print(f\"Root Mean Squared Error (RMSE): {rmse}\")\n",
    "print(f\"R² Score: {r2}\")\n"
   ]
  },
  {
   "cell_type": "markdown",
   "id": "655ccfd5",
   "metadata": {},
   "source": [
    "#### **4. Support Vector Regression (SVR) :**"
   ]
  },
  {
   "cell_type": "code",
   "execution_count": 15,
   "id": "c6471fb4",
   "metadata": {},
   "outputs": [
    {
     "name": "stdout",
     "output_type": "stream",
     "text": [
      "Mean Absolute Error (MAE): 0.1703509478305\n",
      "Root Mean Squared Error (RMSE): 0.359636728775048\n",
      "R² Score: 0.8561071210653225\n"
     ]
    }
   ],
   "source": [
    "from sklearn.svm import SVR\n",
    "from sklearn.metrics import *\n",
    "\n",
    "# Charger le dataset\n",
    "data = pd.read_csv(\"../data/processed/data.csv\")\n",
    "\n",
    "# Séparer les features (X) et la cible (y)\n",
    "X = data.drop(\"charges\", axis=1)\n",
    "y = data[\"charges\"]\n",
    "\n",
    "# Diviser les données en train et test\n",
    "X_train, X_test, y_train, y_test = train_test_split(X, y, test_size=0.2, random_state=42)\n",
    "\n",
    "# Créer le modèle SVR avec paramètres par défaut\n",
    "svr = SVR()\n",
    "\n",
    "# Entraîner le modèle\n",
    "svr.fit(X_train, y_train)\n",
    "\n",
    "# Prédire\n",
    "y_pred = svr.predict(X_test)\n",
    "\n",
    "# Évaluer le modèle\n",
    "mae = mean_absolute_error(y_test, y_pred) # Mean Absolute Error\n",
    "rmse = np.sqrt(mean_squared_error(y_test, y_pred)) # Root Mean Squared Error\n",
    "r2 = r2_score(y_test, y_pred) # R² Score\n",
    "\n",
    "print(f\"Mean Absolute Error (MAE): {mae}\")\n",
    "print(f\"Root Mean Squared Error (RMSE): {rmse}\")\n",
    "print(f\"R² Score: {r2}\")"
   ]
  }
 ],
 "metadata": {
  "kernelspec": {
   "display_name": "Python 3",
   "language": "python",
   "name": "python3"
  },
  "language_info": {
   "codemirror_mode": {
    "name": "ipython",
    "version": 3
   },
   "file_extension": ".py",
   "mimetype": "text/x-python",
   "name": "python",
   "nbconvert_exporter": "python",
   "pygments_lexer": "ipython3",
   "version": "3.13.7"
  }
 },
 "nbformat": 4,
 "nbformat_minor": 5
}

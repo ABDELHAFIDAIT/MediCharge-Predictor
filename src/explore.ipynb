{
 "cells": [
  {
   "cell_type": "markdown",
   "id": "fd37f738",
   "metadata": {},
   "source": [
    "## **MediCharge-Predictor**\n",
    "Un projet de Machine Learning pour prédire les charges d’assurance maladie avec une précision optimale, basé sur des techniques de régression et d’optimisation des modèles.\n",
    "\n",
    "### **Pandas** :\n",
    "La bibliothèque <code>Pandas</code> est une bibliothèque open-source de Python spécialisée dans la manipulation et l’analyse de données. Elle fournit des structures de données puissantes et flexibles, principalement les objets Series (vecteurs à une dimension) et DataFrame (tableaux de données à deux dimensions, semblables à des feuilles Excel ou des tables SQL), qui facilitent le traitement, le nettoyage et la transformation des données. Grâce à Pandas, il devient simple de charger, explorer, filtrer, agréger et visualiser des jeux de données provenant de différentes sources (CSV, Excel, bases de données, etc.), ce qui en fait un outil incontournable en data science, machine learning et analyse statistique.\n",
    "\n",
    "#### **1. Importation des Données :**"
   ]
  },
  {
   "cell_type": "code",
   "execution_count": null,
   "id": "4fd47f9e",
   "metadata": {},
   "outputs": [],
   "source": [
    "import pandas as pd\n",
    "\n",
    "data = pd.read_csv('../data/raw/data.csv')"
   ]
  },
  {
   "cell_type": "markdown",
   "id": "02f96863",
   "metadata": {},
   "source": [
    "#### **2. Vérification des Types et la Structure des Colnnes :**\n",
    "\n",
    "En Pandas, <code>data.columns</code> sert à afficher ou modifier la liste des noms de colonnes d’un DataFrame."
   ]
  },
  {
   "cell_type": "code",
   "execution_count": null,
   "id": "97c41c69",
   "metadata": {},
   "outputs": [],
   "source": [
    "import pandas as pd\n",
    "\n",
    "data = pd.read_csv('../data/raw/data.csv')\n",
    "\n",
    "print(data.columns)"
   ]
  },
  {
   "cell_type": "markdown",
   "id": "716b62bf",
   "metadata": {},
   "source": [
    "<code>data.info()</code> est une méthode de Pandas qui donne un résumé complet du DataFrame. Elle affiche :\n",
    "\n",
    "- Le nombre total de lignes et de colonnes.\n",
    "\n",
    "- Les noms de colonnes.\n",
    "\n",
    "- Le nombre de valeurs non nulles (non manquantes) par colonne.\n",
    "\n",
    "- Le type de données (<code>dtypes</code>) de chaque colonne."
   ]
  },
  {
   "cell_type": "code",
   "execution_count": null,
   "id": "ca3dfb05",
   "metadata": {},
   "outputs": [],
   "source": [
    "import pandas as pd\n",
    "\n",
    "data = pd.read_csv('../data/raw/data.csv')\n",
    "\n",
    "print(data.info())"
   ]
  },
  {
   "cell_type": "markdown",
   "id": "36713a87",
   "metadata": {},
   "source": [
    "#### **3. Les Types des Données :**\n",
    "\n",
    "En Pandas, <code>data.dtypes</code> sert à afficher le type de données de chaque colonne d’un DataFrame."
   ]
  },
  {
   "cell_type": "code",
   "execution_count": null,
   "id": "a8cd223b",
   "metadata": {},
   "outputs": [],
   "source": [
    "import pandas as pd\n",
    "\n",
    "data = pd.read_csv('../data/raw/data.csv')\n",
    "\n",
    "print(data.dtypes)"
   ]
  },
  {
   "cell_type": "markdown",
   "id": "a2da39f5",
   "metadata": {},
   "source": [
    "#### **4. Les Dimensions du Dataset :**\n",
    "\n",
    "En Pandas, <code>data.shape</code> est une propriété qui donne les dimensions d’un DataFrame sous forme d’un tuple : <code>(nbr_lignes, nbr_colonnes)</code>"
   ]
  },
  {
   "cell_type": "code",
   "execution_count": null,
   "id": "2caf3efd",
   "metadata": {},
   "outputs": [],
   "source": [
    "import pandas as pd\n",
    "\n",
    "data = pd.read_csv('../data/raw/data.csv')\n",
    "\n",
    "print(data.shape)"
   ]
  },
  {
   "cell_type": "markdown",
   "id": "da5daf2e",
   "metadata": {},
   "source": [
    "#### **5. Aperçu du Dataset :**\n",
    "\n",
    "En Pandas, <code>data.head()</code> sert à afficher les premières lignes d’un DataFrame.\n",
    "Par défaut, il montre les 5 premières lignes, mais tu peux préciser un nombre entre les parenthèses."
   ]
  },
  {
   "cell_type": "code",
   "execution_count": null,
   "id": "2a5090ed",
   "metadata": {},
   "outputs": [],
   "source": [
    "import pandas as pd\n",
    "\n",
    "data = pd.read_csv('../data/raw/data.csv')\n",
    "\n",
    "print(data.head())       # par défaut affiche 5 premières lignes\n",
    "print(data.head(3))      # affiche seulement 3 premières lignes"
   ]
  },
  {
   "cell_type": "markdown",
   "id": "9a4b6f18",
   "metadata": {},
   "source": [
    "En Pandas, <code>data.tail()</code> est une méthode qui sert à afficher les dernières lignes d’un DataFrame. Par défaut, elle montre les 5 dernières lignes, mais tu peux préciser un nombre entre les parenthèses."
   ]
  },
  {
   "cell_type": "code",
   "execution_count": null,
   "id": "f1e9c207",
   "metadata": {},
   "outputs": [],
   "source": [
    "import pandas as pd\n",
    "\n",
    "data = pd.read_csv('../data/raw/data.csv')\n",
    "\n",
    "print(data.tail())       # par défaut affiche 5 premières lignes\n",
    "print(data.tail(3))      # affiche seulement 3 premières lignes"
   ]
  },
  {
   "cell_type": "markdown",
   "id": "b5449a43",
   "metadata": {},
   "source": [
    "#### **6. Analyse Descriptive des Données :**\n",
    "\n",
    "<code>L’analyse descriptive</code> des données (ou <code>statistiques descriptives</code>) est une étape essentielle qui permet de comprendre et résumer un jeu de données avant toute analyse plus complexe ou modélisation.\n",
    "\n",
    "Elle sert à :\n",
    "\n",
    "- **Résumer les données :** connaître des mesures comme la <code>moyenne</code>, la <code>médiane</code>, le <code>minimum</code>, le <code>maximum</code>, <code>l’écart-type</code> ou les <code>quartiles</code>.\n",
    "\n",
    "- **Identifier les tendances et la distribution :** voir si les données sont centrées, dispersées ou biaisées.\n",
    "\n",
    "- **Détecter les anomalies ou valeurs extrêmes :** repérer des erreurs ou des points aberrants.\n",
    "\n",
    "- **Faciliter la visualisation et la prise de décision :** avoir une idée rapide des caractéristiques principales du jeu de données.\n",
    "\n",
    "##### **6.1. Analyse Descriptive Quantitative :**\n",
    "\n",
    "Porte sur les données numériques (nombres entiers ou décimaux).Elle sert à : \n",
    "\n",
    "- Résumer et caractériser ces données avec des mesures statistiques :\n",
    "\n",
    "- Mesures de tendance centrale : <code>moyenne</code>, <code>médiane</code>, <code>mode</code>.\n",
    "\n",
    "- Mesures de dispersion : <code>écart-type</code>, <code>variance</code>, étendue (<code>max-min</code>), <code>quartiles</code>.\n",
    "\n",
    "\n",
    "En Pandas, on utilise souvent la méthode <code>data.describe()</code> pour obtenir rapidement ces statistiques sur les colonnes numériques."
   ]
  },
  {
   "cell_type": "code",
   "execution_count": null,
   "id": "1943b034",
   "metadata": {},
   "outputs": [],
   "source": [
    "import pandas as pd\n",
    "\n",
    "data = pd.read_csv('../data/raw/data.csv')\n",
    "\n",
    "print(data.describe())"
   ]
  },
  {
   "cell_type": "markdown",
   "id": "41d024c9",
   "metadata": {},
   "source": [
    "##### **6.2. Analyse Descriptive Qualitative:**\n",
    "\n",
    "Porte sur les données catégorielles ou textuelles (nom, ville, genre, catégorie, etc.).\n",
    "\n",
    "Elle sert à résumer la fréquence et la répartition des valeurs :\n",
    "\n",
    "- Nombre de valeurs uniques\n",
    "\n",
    "- Valeur la plus fréquente (mode)\n",
    "\n",
    "- Comptage des occurrences\n",
    "\n",
    "En Pandas, pour faire une analyse descriptive qualitative (catégorielle) avec <code>describe()</code>, il faut spécifier les colonnes catégorielles ou inclure tous les types."
   ]
  },
  {
   "cell_type": "code",
   "execution_count": null,
   "id": "da056467",
   "metadata": {},
   "outputs": [],
   "source": [
    "import pandas as pd\n",
    "\n",
    "data = pd.read_csv('../data/raw/data.csv')\n",
    "\n",
    "print(data.describe(include=['object']))"
   ]
  },
  {
   "cell_type": "markdown",
   "id": "bbb5799b",
   "metadata": {},
   "source": [
    "#### **7. Identification des Valeurs Manquantes et des Doublons :**\n",
    "\n",
    "En Pandas, gérer les valeurs manquantes et les doublons est une étape essentielle du nettoyage des données.\n",
    "\n",
    "Pour vérifier s’il y a des valeurs manquantes dans tout le DataSet, on utilise <code>isnull()</code> :"
   ]
  },
  {
   "cell_type": "code",
   "execution_count": null,
   "id": "c5c39165",
   "metadata": {},
   "outputs": [],
   "source": [
    "import pandas as pd\n",
    "\n",
    "data = pd.read_csv('../data/raw/data.csv')\n",
    "\n",
    "print(data.isnull())\n",
    "\n",
    "print(data.isnull().sum()) # Compter le nombre de valeurs manquantes par colonne"
   ]
  },
  {
   "cell_type": "markdown",
   "id": "6852e82d",
   "metadata": {},
   "source": [
    "Pour vérifier si des lignes sont complètement identiques, on utilise <code>duplicated()</code> :"
   ]
  },
  {
   "cell_type": "code",
   "execution_count": null,
   "id": "e21d92b9",
   "metadata": {},
   "outputs": [],
   "source": [
    "import pandas as pd\n",
    "\n",
    "data = pd.read_csv('../data/raw/data.csv')\n",
    "\n",
    "print(data.duplicated())\n",
    "\n",
    "print(data.duplicated().sum()) # Compter le nombre de valeurs manquantes par colonne\n",
    "\n",
    "duplicated_rows = data[data.duplicated(keep=False)] # Afficher les lignes dupliquées\n",
    "\n",
    "print(duplicated_rows)"
   ]
  },
  {
   "cell_type": "markdown",
   "id": "89759831",
   "metadata": {},
   "source": [
    "Les options de <code>keep</code> :\n",
    "\n",
    "- <code>keep='first'</code> (par défaut) : La première occurrence d’une ligne dupliquée est conservée (non marquée comme dupliquée). Toutes les occurrences suivantes sont considérées comme dupliquées.\n",
    "\n",
    "- <code>keep='last'</code> : La dernière occurrence est conservée. Toutes les autres occurrences précédentes sont considérées comme dupliquées.\n",
    "\n",
    "- <code>keep=False</code> : Toutes les occurrences de la ligne dupliquée sont considérées comme dupliquées."
   ]
  }
 ],
 "metadata": {
  "kernelspec": {
   "display_name": "Python 3",
   "language": "python",
   "name": "python3"
  },
  "language_info": {
   "codemirror_mode": {
    "name": "ipython",
    "version": 3
   },
   "file_extension": ".py",
   "mimetype": "text/x-python",
   "name": "python",
   "nbconvert_exporter": "python",
   "pygments_lexer": "ipython3",
   "version": "3.13.7"
  }
 },
 "nbformat": 4,
 "nbformat_minor": 5
}

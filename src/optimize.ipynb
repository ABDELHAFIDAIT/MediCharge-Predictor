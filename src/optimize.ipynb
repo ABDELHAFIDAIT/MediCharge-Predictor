{
 "cells": [
  {
   "cell_type": "markdown",
   "id": "372e9df6",
   "metadata": {},
   "source": [
    "#### **1. Sélection des Modèles donnant les Meilleures Performances avec les Hyperparamètres par Défaut :**\n",
    "\n",
    "Quand on compares plusieurs modèles (par exemple ``LinearRegression``, ``SVR``, ``RandomForest``, ``XGBoost``…) avec leurs hyperparamètres par défaut, on veux sélectionner celui qui s’adapte le mieux aux données.\n",
    "\n",
    "##### **Sur quelles métriques se baser ?**\n",
    "\n",
    "- **``R²`` (Coefficient de détermination)** :\n",
    "\n",
    "    - Reflète la proportion de variance de la cible expliquée par le modèle.\n",
    "\n",
    "    - Plus proche de 1, meilleur est le modèle.\n",
    "\n",
    "    - _**Problème**_ : un R² élevé ne veut pas toujours dire que le modèle prédit bien (peut surajuster ou être influencé par outliers).\n",
    "\n",
    "- **``MAE`` (Mean Absolute Error) :**\n",
    "\n",
    "    - Donne l’erreur moyenne absolue (en unités réelles de la cible).\n",
    "\n",
    "    - Plus faible, meilleur est le modèle.\n",
    "\n",
    "    - Facile à interpréter.\n",
    "\n",
    "- **``RMSE`` (Root Mean Squared Error) :**\n",
    "\n",
    "    - Comme ``MAE`` mais pénalise davantage les grosses erreurs.\n",
    "\n",
    "    - Plus faible, meilleur est le modèle.\n",
    "\n",
    "    - Utile si tu veux éviter des grosses erreurs isolées.\n",
    "\n",
    "##### **Conclusion :**\n",
    "\n",
    "- Il ne faut pas se baser uniquement sur ``R²``. \n",
    "\n",
    "- Le mieux est de comparer les trois métriques.\n",
    "\n",
    "- Choisir le modèle avec le plus grand ``R²``, et les plus petits ``MAE`` & ``RMSE``.\n",
    "\n",
    "- Parfois, on auras un compromis :\n",
    "\n",
    "    - _**Exemple**_ : un modèle avec R² élevé mais RMSE trop grand → pas optimal."
   ]
  },
  {
   "cell_type": "code",
   "execution_count": null,
   "id": "97367efb",
   "metadata": {},
   "outputs": [],
   "source": [
    "import pandas as pd\n",
    "\n",
    "performances = pd.read_csv(\"../reports/performance.csv\")\n",
    "\n",
    "print(performances)"
   ]
  },
  {
   "cell_type": "markdown",
   "id": "c333f0de",
   "metadata": {},
   "source": [
    "Voyons les résultats :\n",
    "\n",
    "| Modèle               | MAE ↓      | RMSE ↓     | R² ↑       |\n",
    "| -------------------- | ---------- | ---------- | ---------- |\n",
    "| **LinearRegression** | 0.2713     | 0.4187     | 0.8050     |\n",
    "| **Random Forest**    | 0.1862     | 0.3709     | 0.8470     |\n",
    "| **XGBoost**          | 0.2168     | 0.4065     | 0.8161     |\n",
    "| **SVR**              | **0.1704** | **0.3596** | **0.8561** |\n",
    "\n",
    "##### Analyse :\n",
    "\n",
    "- LinearRegression : le plus faible des quatre, erreurs élevées, ``R²`` plus faible.\n",
    "\n",
    "- XGBoost : meilleur que LinearRegression, mais moins bon que ``Random Forest`` et ``SVR``.\n",
    "\n",
    "- Random Forest : très bon compromis, ``R²`` assez élevé et erreurs réduites.\n",
    "\n",
    "- SVR : meilleur ``MAE``, meilleur ``RMSE`` et meilleur ``R²`` → il bat tous les autres modèles.\n",
    "\n",
    "\n",
    "**Conclusion :** le meilleur modèle (avec hyperparamètres par défaut) est ``SVR``.\n"
   ]
  }
 ],
 "metadata": {
  "kernelspec": {
   "display_name": "Python 3",
   "language": "python",
   "name": "python3"
  },
  "language_info": {
   "codemirror_mode": {
    "name": "ipython",
    "version": 3
   },
   "file_extension": ".py",
   "mimetype": "text/x-python",
   "name": "python",
   "nbconvert_exporter": "python",
   "pygments_lexer": "ipython3",
   "version": "3.13.7"
  }
 },
 "nbformat": 4,
 "nbformat_minor": 5
}

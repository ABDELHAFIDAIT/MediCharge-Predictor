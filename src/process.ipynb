{
 "cells": [
  {
   "cell_type": "markdown",
   "id": "102f2577",
   "metadata": {},
   "source": [
    "### **Prétraitement des Données :**\n",
    "\n",
    "<!-- <code></code> -->\n",
    "\n",
    "#### **1. Gestion des Valeurs Manquantes :**\n",
    "\n",
    "La gestion des valeurs manquantes est une étape essentielle de l’analyse de données (EDA – Exploratory Data Analysis) et du prétraitement avant de faire du Machine Learning ou de la visualisation.\n",
    "\n",
    "Il existe plusieurs approches, en fonction du type de données et de l’importance de la colonne :\n",
    "\n",
    "- **Suppression des valeurs manquantes :**\n",
    "\n",
    "    - Supprimer les lignes qui contiennent des valeurs manquantes (<code>dropna()</code> en <code>Pandas</code>).\n",
    "\n",
    "    - Supprimer les colonnes entières si elles contiennent trop de valeurs manquantes (Utile quand le dataset est assez grand et que la perte d’informations est négligeable).\n",
    "\n",
    "- **Imputation (Remplacement) :**\n",
    "\n",
    "    - Remplacer les valeurs manquantes par une valeur calculée ou choisie.\n",
    "\n",
    "    - C’est la méthode la plus utilisée car elle permet de conserver toutes les lignes.\n",
    "\n",
    "- **Méthodes avancées :**\n",
    "\n",
    "    - Utiliser des modèles statistiques ou de Machine Learning pour prédire les valeurs manquantes (ex : <code>KNN</code> imputer, <code>régression</code>, <code>arbres de décision</code>).\n",
    "\n",
    "<br>\n",
    "\n",
    "##### **1.1. Imputation :**\n",
    "\n",
    "L’imputation consiste à remplacer les valeurs manquantes par une estimation appropriée. Au lieu de supprimer les données, on **devine** la valeur manquante à partir des autres données disponibles. Cette méthode a pour objectif de :\n",
    "\n",
    "- Conserver un maximum de données : Évite de perdre des observations importantes.\n",
    "\n",
    "- Les modèles de Machine Learning ne peuvent pas travailler avec des valeurs manquantes (<code>NaN</code>).\n",
    "\n",
    "- Améliorer la qualité des résultats : Une bonne imputation réduit les biais et donne de meilleures prédictions.\n",
    "\n",
    "<br>\n",
    "\n",
    "**A. Imputation Pour les variables numériques :**\n",
    "\n",
    "Souvent pour les variables numériques manquantes, on les remplace par la <code>moyenne</code>, <code>médiane</code>, ou <code>mode</code>.\n",
    "\n",
    "En Pandas, il existe plusieurs façons de vérifier la présence de valeurs manquantes (<code>NaN</code>).\n",
    "\n",
    "_**Remarque :**_ Pour notre Dataset , on a aucune variable numérique manquantes."
   ]
  },
  {
   "cell_type": "code",
   "execution_count": null,
   "id": "fe104606",
   "metadata": {},
   "outputs": [],
   "source": [
    "import pandas as pd\n",
    "\n",
    "data = pd.read_csv(\"../data/raw/data.csv\")\n",
    "\n",
    "data.isnull() # Retourne un DataFrame de même taille que data, avec des booléens indiquant la présence de NaN.\n",
    "\n",
    "data.isnull().sum() # Affiche le nombre de valeurs manquantes pour chaque colonne.\n",
    "\n",
    "data.isnull().sum().sum() # Donne le nombre total de cellules manquantes dans ton dataset.\n",
    "\n",
    "data.isnull().values.any() # Retourne True s’il existe au moins une valeur manquante dans tout le DataFrame.\n",
    "\n",
    "data[data.isnull().any(axis=1)] # Affiche toutes les lignes qui contiennent au moins un NaN."
   ]
  },
  {
   "cell_type": "markdown",
   "id": "66e5ca18",
   "metadata": {},
   "source": [
    "Pour remplacer les valeurs manquantes d’une variable numérique par la médiane, on utilise <code>fillna()</code> de Pandas."
   ]
  },
  {
   "cell_type": "code",
   "execution_count": null,
   "id": "7c96b2fd",
   "metadata": {},
   "outputs": [],
   "source": [
    "import pandas as pd\n",
    "\n",
    "data = pd.read_csv(\"../data/raw/data.csv\")\n",
    "\n",
    "data_copy = data.copy() \n",
    "\n",
    "numeric_cols = data_copy.select_dtypes(include=['number']).columns.tolist()\n",
    "\n",
    "for col in numeric_cols:\n",
    "    median_value = data_copy[col].median()\n",
    "    data_copy[col].fillna(median_value, inplace=True)"
   ]
  },
  {
   "cell_type": "markdown",
   "id": "7e8fe0ca",
   "metadata": {},
   "source": [
    "**B. Imputation Pour les variables catégorielles :**\n",
    "\n",
    "Les variables qualitatives (catégorielles) se gèrent un peu différemment des numériques, parce qu’elles ne peuvent pas être remplacées par une moyenne ou une médiane.\n",
    "\n",
    "Souvent, on les remplace par le <code>mode</code> (valeur la plus fréquente).\n",
    "\n",
    "_**Remarque :**_ Pour notre Dataset , on a aucune variable catégorielle manquante."
   ]
  },
  {
   "cell_type": "code",
   "execution_count": null,
   "id": "af310c2b",
   "metadata": {},
   "outputs": [],
   "source": [
    "import pandas as pd\n",
    "\n",
    "data = pd.read_csv(\"../data/raw/data.csv\")\n",
    "\n",
    "data_copy = data.copy() \n",
    "\n",
    "category_cols = data_copy.select_dtypes(include=['object']).columns.tolist()\n",
    "\n",
    "for col in category_cols:\n",
    "    mode_value = data_copy[col].mode()[0]\n",
    "    data_copy[col].fillna(mode_value, inplace=True)"
   ]
  },
  {
   "cell_type": "markdown",
   "id": "2433d714",
   "metadata": {},
   "source": [
    "<br>\n",
    "\n",
    "#### **2. Gestion des Doublons :**\n",
    "\n",
    "Les doublons (données répétées) sont fréquents dans un dataset, surtout quand il vient de bases de données, d’Excel ou d’une collecte multiple. Ils peuvent fausser les statistiques et les modèles, donc il faut les gérer.\n",
    "\n",
    "En Pandas, il existe plusieurs façons de vérifier la présence des doublons."
   ]
  },
  {
   "cell_type": "code",
   "execution_count": null,
   "id": "e15ca117",
   "metadata": {},
   "outputs": [],
   "source": [
    "import pandas as pd\n",
    "\n",
    "data = pd.read_csv(\"../data/raw/data.csv\")\n",
    "\n",
    "data.duplicated() # Retourne une Series de booléens indiquant si une ligne est un doublon d’une ligne précédente.\n",
    "\n",
    "data.duplicated().sum() # Affiche le nombre de lignes dupliquées dans le DataFrame.\n",
    "\n",
    "data.duplicated().values.any() # Retourne True s’il existe au moins une ligne dupliquée dans tout le DataFrame.\n",
    "\n",
    "data[data.duplicated()] # Affiche toutes les lignes qui sont des doublons."
   ]
  },
  {
   "cell_type": "markdown",
   "id": "31446e71",
   "metadata": {},
   "source": [
    "Souvent, on supprime les doublons qu'on a dans notre DataFrame.\n",
    "\n",
    "En Pandas, on utilise la méthode <code>drop_duplicates()</code>."
   ]
  },
  {
   "cell_type": "code",
   "execution_count": 33,
   "id": "2830545d",
   "metadata": {},
   "outputs": [],
   "source": [
    "import pandas as pd\n",
    "\n",
    "data = pd.read_csv(\"../data/raw/data.csv\")\n",
    "\n",
    "data_copy = data.copy()\n",
    "\n",
    "data_copy = data_copy.drop_duplicates() # Supprimer les doublons (en gardant la 1ère occurrence par défaut)"
   ]
  }
 ],
 "metadata": {
  "kernelspec": {
   "display_name": "Python 3",
   "language": "python",
   "name": "python3"
  },
  "language_info": {
   "codemirror_mode": {
    "name": "ipython",
    "version": 3
   },
   "file_extension": ".py",
   "mimetype": "text/x-python",
   "name": "python",
   "nbconvert_exporter": "python",
   "pygments_lexer": "ipython3",
   "version": "3.13.7"
  }
 },
 "nbformat": 4,
 "nbformat_minor": 5
}
